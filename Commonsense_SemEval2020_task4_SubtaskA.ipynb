{
  "nbformat": 4,
  "nbformat_minor": 0,
  "metadata": {
    "colab": {
      "name": "Commonsense_SemEval2020_task4_SubtaskA.ipynb",
      "provenance": []
    },
    "kernelspec": {
      "name": "python3",
      "display_name": "Python 3"
    },
    "accelerator": "GPU"
  },
  "cells": [
    {
      "cell_type": "markdown",
      "source": [
        "#Setup environment"
      ],
      "metadata": {
        "id": "i4RjurAOa_lM"
      }
    },
    {
      "cell_type": "code",
      "metadata": {
        "id": "BBUNP0nRSf3q",
        "colab": {
          "base_uri": "https://localhost:8080/",
          "height": 122
        },
        "outputId": "53199102-3bda-4b7a-dc1e-facee8b142c2"
      },
      "source": [
        "from google.colab import drive\n",
        "drive.mount('/content/drive')"
      ],
      "execution_count": null,
      "outputs": [
        {
          "output_type": "stream",
          "text": [
            "Go to this URL in a browser: https://accounts.google.com/o/oauth2/auth?client_id=947318989803-6bn6qk8qdgf4n4g3pfee6491hc0brc4i.apps.googleusercontent.com&redirect_uri=urn%3aietf%3awg%3aoauth%3a2.0%3aoob&response_type=code&scope=email%20https%3a%2f%2fwww.googleapis.com%2fauth%2fdocs.test%20https%3a%2f%2fwww.googleapis.com%2fauth%2fdrive%20https%3a%2f%2fwww.googleapis.com%2fauth%2fdrive.photos.readonly%20https%3a%2f%2fwww.googleapis.com%2fauth%2fpeopleapi.readonly\n",
            "\n",
            "Enter your authorization code:\n",
            "··········\n",
            "Mounted at /content/drive\n"
          ],
          "name": "stdout"
        }
      ]
    },
    {
      "cell_type": "code",
      "metadata": {
        "id": "LLT_rLnoTq9b"
      },
      "source": [
        "#---upload dataset---\n",
        "\n",
        "import pandas as pd\n",
        "train_ans = pd.read_csv('drive/My Drive/NLP_project/dataset/Training  Data/subtaskA_answers_all.csv', header=None, names=['id', 'label'], index_col='id')\n",
        "train_data= pd.read_csv('drive/My Drive/NLP_project/dataset/Training  Data/subtaskA_data_all.csv', index_col='id')\n",
        "dev_ans = pd.read_csv('drive/My Drive/NLP_project/dataset/Dev Data/subtaskA_gold_answers.csv', header=None, names=['id', 'label'], index_col='id')\n",
        "dev_data= pd.read_csv('drive/My Drive/NLP_project/dataset/Dev Data/subtaskA_dev_data.csv', index_col='id')\n",
        "test_df = pd.read_csv('drive/My Drive/NLP_project/dataset/Test Data/subtaskA_test_data.csv')"
      ],
      "execution_count": null,
      "outputs": []
    },
    {
      "cell_type": "code",
      "metadata": {
        "id": "SyQnwK9oTyNC"
      },
      "source": [
        "#---Merge sententces with labels---\n",
        "\n",
        "train_df = pd.concat([train_data['sent0'],train_data['sent1'],train_ans['label']],axis=1) \n",
        "dev_df = pd.concat([dev_data['sent0'],dev_data['sent1'],dev_ans['label']],axis=1)"
      ],
      "execution_count": null,
      "outputs": []
    },
    {
      "cell_type": "code",
      "metadata": {
        "id": "L-_L8iOvT1wB",
        "colab": {
          "base_uri": "https://localhost:8080/",
          "height": 450
        },
        "outputId": "04933a17-ef1b-4844-fba4-7d6d050786bc"
      },
      "source": [
        "train_df"
      ],
      "execution_count": null,
      "outputs": [
        {
          "output_type": "execute_result",
          "data": {
            "text/html": [
              "<div>\n",
              "<style scoped>\n",
              "    .dataframe tbody tr th:only-of-type {\n",
              "        vertical-align: middle;\n",
              "    }\n",
              "\n",
              "    .dataframe tbody tr th {\n",
              "        vertical-align: top;\n",
              "    }\n",
              "\n",
              "    .dataframe thead th {\n",
              "        text-align: right;\n",
              "    }\n",
              "</style>\n",
              "<table border=\"1\" class=\"dataframe\">\n",
              "  <thead>\n",
              "    <tr style=\"text-align: right;\">\n",
              "      <th></th>\n",
              "      <th>sent0</th>\n",
              "      <th>sent1</th>\n",
              "      <th>label</th>\n",
              "    </tr>\n",
              "    <tr>\n",
              "      <th>id</th>\n",
              "      <th></th>\n",
              "      <th></th>\n",
              "      <th></th>\n",
              "    </tr>\n",
              "  </thead>\n",
              "  <tbody>\n",
              "    <tr>\n",
              "      <th>0</th>\n",
              "      <td>He poured orange juice on his cereal.</td>\n",
              "      <td>He poured milk on his cereal.</td>\n",
              "      <td>0</td>\n",
              "    </tr>\n",
              "    <tr>\n",
              "      <th>1</th>\n",
              "      <td>He drinks apple.</td>\n",
              "      <td>He drinks milk.</td>\n",
              "      <td>0</td>\n",
              "    </tr>\n",
              "    <tr>\n",
              "      <th>2</th>\n",
              "      <td>Jeff ran a mile today</td>\n",
              "      <td>Jeff ran 100,000 miles today</td>\n",
              "      <td>1</td>\n",
              "    </tr>\n",
              "    <tr>\n",
              "      <th>3</th>\n",
              "      <td>A mosquito stings me</td>\n",
              "      <td>I sting a mosquito</td>\n",
              "      <td>1</td>\n",
              "    </tr>\n",
              "    <tr>\n",
              "      <th>4</th>\n",
              "      <td>A niece is a person.</td>\n",
              "      <td>A giraffe is a person.</td>\n",
              "      <td>1</td>\n",
              "    </tr>\n",
              "    <tr>\n",
              "      <th>...</th>\n",
              "      <td>...</td>\n",
              "      <td>...</td>\n",
              "      <td>...</td>\n",
              "    </tr>\n",
              "    <tr>\n",
              "      <th>9995</th>\n",
              "      <td>Mark ate a big bitter cherry pie</td>\n",
              "      <td>Mark ate a big sweet cherry pie</td>\n",
              "      <td>0</td>\n",
              "    </tr>\n",
              "    <tr>\n",
              "      <th>9996</th>\n",
              "      <td>Gloria wears a cat on her head</td>\n",
              "      <td>Gloria wears a hat on her head</td>\n",
              "      <td>0</td>\n",
              "    </tr>\n",
              "    <tr>\n",
              "      <th>9997</th>\n",
              "      <td>Harry went to the barbershop to have his hair cut</td>\n",
              "      <td>Harry went to the barbershop to have his glass...</td>\n",
              "      <td>1</td>\n",
              "    </tr>\n",
              "    <tr>\n",
              "      <th>9998</th>\n",
              "      <td>Reilly is sleeping on the couch</td>\n",
              "      <td>Reilly is sleeping on the window</td>\n",
              "      <td>1</td>\n",
              "    </tr>\n",
              "    <tr>\n",
              "      <th>9999</th>\n",
              "      <td>I have a desk on my lamp</td>\n",
              "      <td>I have a lamp on my desk</td>\n",
              "      <td>0</td>\n",
              "    </tr>\n",
              "  </tbody>\n",
              "</table>\n",
              "<p>10000 rows × 3 columns</p>\n",
              "</div>"
            ],
            "text/plain": [
              "                                                  sent0  ... label\n",
              "id                                                       ...      \n",
              "0                 He poured orange juice on his cereal.  ...     0\n",
              "1                                      He drinks apple.  ...     0\n",
              "2                                 Jeff ran a mile today  ...     1\n",
              "3                                  A mosquito stings me  ...     1\n",
              "4                                  A niece is a person.  ...     1\n",
              "...                                                 ...  ...   ...\n",
              "9995                   Mark ate a big bitter cherry pie  ...     0\n",
              "9996                     Gloria wears a cat on her head  ...     0\n",
              "9997  Harry went to the barbershop to have his hair cut  ...     1\n",
              "9998                    Reilly is sleeping on the couch  ...     1\n",
              "9999                           I have a desk on my lamp  ...     0\n",
              "\n",
              "[10000 rows x 3 columns]"
            ]
          },
          "metadata": {
            "tags": []
          },
          "execution_count": 4
        }
      ]
    },
    {
      "cell_type": "markdown",
      "source": [
        "#Simpletransforemers "
      ],
      "metadata": {
        "id": "fSd6s-p7apbf"
      }
    },
    {
      "cell_type": "code",
      "metadata": {
        "id": "hbiYq_oCT7-L"
      },
      "source": [
        "pip install simpletransformers"
      ],
      "execution_count": null,
      "outputs": []
    },
    {
      "cell_type": "code",
      "metadata": {
        "id": "QkIlQT9wUBg8"
      },
      "source": [
        "%%writefile setup.sh\n",
        "\n",
        "git clone https://github.com/NVIDIA/apex\n",
        "pip install -v --no-cache-dir --global-option=\"--cpp_ext\" --global-option=\"--cuda_ext\" ./apex"
      ],
      "execution_count": null,
      "outputs": []
    },
    {
      "cell_type": "code",
      "metadata": {
        "id": "WitpHETaU6vS"
      },
      "source": [
        "!sh setup.sh"
      ],
      "execution_count": null,
      "outputs": []
    },
    {
      "cell_type": "code",
      "metadata": {
        "id": "qwetCxS1VN4a"
      },
      "source": [
        "train_df1 = train_df.rename(columns={'sent0': 'text_a', 'sent1': 'text_b', 'label': 'labels'})\n",
        "dev_df1 = dev_df.rename(columns={'sent0': 'text_a', 'sent1': 'text_b', 'label': 'labels'})\n",
        "test_df1 = test_df.rename(columns={'sent0': 'text_a', 'sent1': 'text_b'})"
      ],
      "execution_count": null,
      "outputs": []
    },
    {
      "cell_type": "code",
      "metadata": {
        "id": "Yk_TbKKkVW0L",
        "colab": {
          "base_uri": "https://localhost:8080/",
          "height": 450
        },
        "outputId": "8f3621e6-71f1-4262-b2b5-5bd50525ee78"
      },
      "source": [
        "train_df1"
      ],
      "execution_count": null,
      "outputs": [
        {
          "output_type": "execute_result",
          "data": {
            "text/html": [
              "<div>\n",
              "<style scoped>\n",
              "    .dataframe tbody tr th:only-of-type {\n",
              "        vertical-align: middle;\n",
              "    }\n",
              "\n",
              "    .dataframe tbody tr th {\n",
              "        vertical-align: top;\n",
              "    }\n",
              "\n",
              "    .dataframe thead th {\n",
              "        text-align: right;\n",
              "    }\n",
              "</style>\n",
              "<table border=\"1\" class=\"dataframe\">\n",
              "  <thead>\n",
              "    <tr style=\"text-align: right;\">\n",
              "      <th></th>\n",
              "      <th>text_a</th>\n",
              "      <th>text_b</th>\n",
              "      <th>labels</th>\n",
              "    </tr>\n",
              "    <tr>\n",
              "      <th>id</th>\n",
              "      <th></th>\n",
              "      <th></th>\n",
              "      <th></th>\n",
              "    </tr>\n",
              "  </thead>\n",
              "  <tbody>\n",
              "    <tr>\n",
              "      <th>0</th>\n",
              "      <td>He poured orange juice on his cereal.</td>\n",
              "      <td>He poured milk on his cereal.</td>\n",
              "      <td>0</td>\n",
              "    </tr>\n",
              "    <tr>\n",
              "      <th>1</th>\n",
              "      <td>He drinks apple.</td>\n",
              "      <td>He drinks milk.</td>\n",
              "      <td>0</td>\n",
              "    </tr>\n",
              "    <tr>\n",
              "      <th>2</th>\n",
              "      <td>Jeff ran a mile today</td>\n",
              "      <td>Jeff ran 100,000 miles today</td>\n",
              "      <td>1</td>\n",
              "    </tr>\n",
              "    <tr>\n",
              "      <th>3</th>\n",
              "      <td>A mosquito stings me</td>\n",
              "      <td>I sting a mosquito</td>\n",
              "      <td>1</td>\n",
              "    </tr>\n",
              "    <tr>\n",
              "      <th>4</th>\n",
              "      <td>A niece is a person.</td>\n",
              "      <td>A giraffe is a person.</td>\n",
              "      <td>1</td>\n",
              "    </tr>\n",
              "    <tr>\n",
              "      <th>...</th>\n",
              "      <td>...</td>\n",
              "      <td>...</td>\n",
              "      <td>...</td>\n",
              "    </tr>\n",
              "    <tr>\n",
              "      <th>9995</th>\n",
              "      <td>Mark ate a big bitter cherry pie</td>\n",
              "      <td>Mark ate a big sweet cherry pie</td>\n",
              "      <td>0</td>\n",
              "    </tr>\n",
              "    <tr>\n",
              "      <th>9996</th>\n",
              "      <td>Gloria wears a cat on her head</td>\n",
              "      <td>Gloria wears a hat on her head</td>\n",
              "      <td>0</td>\n",
              "    </tr>\n",
              "    <tr>\n",
              "      <th>9997</th>\n",
              "      <td>Harry went to the barbershop to have his hair cut</td>\n",
              "      <td>Harry went to the barbershop to have his glass...</td>\n",
              "      <td>1</td>\n",
              "    </tr>\n",
              "    <tr>\n",
              "      <th>9998</th>\n",
              "      <td>Reilly is sleeping on the couch</td>\n",
              "      <td>Reilly is sleeping on the window</td>\n",
              "      <td>1</td>\n",
              "    </tr>\n",
              "    <tr>\n",
              "      <th>9999</th>\n",
              "      <td>I have a desk on my lamp</td>\n",
              "      <td>I have a lamp on my desk</td>\n",
              "      <td>0</td>\n",
              "    </tr>\n",
              "  </tbody>\n",
              "</table>\n",
              "<p>10000 rows × 3 columns</p>\n",
              "</div>"
            ],
            "text/plain": [
              "                                                 text_a  ... labels\n",
              "id                                                       ...       \n",
              "0                 He poured orange juice on his cereal.  ...      0\n",
              "1                                      He drinks apple.  ...      0\n",
              "2                                 Jeff ran a mile today  ...      1\n",
              "3                                  A mosquito stings me  ...      1\n",
              "4                                  A niece is a person.  ...      1\n",
              "...                                                 ...  ...    ...\n",
              "9995                   Mark ate a big bitter cherry pie  ...      0\n",
              "9996                     Gloria wears a cat on her head  ...      0\n",
              "9997  Harry went to the barbershop to have his hair cut  ...      1\n",
              "9998                    Reilly is sleeping on the couch  ...      1\n",
              "9999                           I have a desk on my lamp  ...      0\n",
              "\n",
              "[10000 rows x 3 columns]"
            ]
          },
          "metadata": {
            "tags": []
          },
          "execution_count": 8
        }
      ]
    },
    {
      "cell_type": "code",
      "metadata": {
        "id": "aO5fef3dWuB-"
      },
      "source": [
        "from simpletransformers.classification import ClassificationModel\n",
        "import pandas as pd\n",
        "import sklearn\n",
        "import logging\n",
        "\n",
        "\n",
        "logging.basicConfig(level=logging.INFO)\n",
        "transformers_logger = logging.getLogger(\"transformers\")\n",
        "transformers_logger.setLevel(logging.WARNING)\n",
        "\n",
        "train_args={\n",
        "    'reprocess_input_data': True,\n",
        "    'overwrite_output_dir': True,\n",
        "    'num_train_epochs': 8,\n",
        "    \"train_batch_size\": 8,\n",
        "    \"eval_batch_size\": 8,\n",
        "    'save_eval_checkpoints': False,\n",
        "    'save_model_every_epoch': False,\n",
        "    \"learning_rate\": 5e-06   \n",
        "    }\n",
        "\n",
        "# Create a ClassificationModel  #bert-large-uncased-whole-word-masking\n",
        "#'xlnet', 'xlnet-large-cased'\n",
        "#'roberta', 'roberta-large'\n",
        "model = ClassificationModel('xlnet', 'xlnet-large-cased', num_labels=2, use_cuda=True, cuda_device=0, args=train_args)\n",
        "print(train_df1.head())\n",
        "\n",
        "# Train the model\n",
        "model.train_model(train_df1, eval_df=dev_df1)"
      ],
      "execution_count": null,
      "outputs": []
    },
    {
      "cell_type": "code",
      "metadata": {
        "id": "exo1ZNwOXFcX"
      },
      "source": [
        "result, model_outputs, wrong_predictions = model.eval_model(dev_df1, acc=sklearn.metrics.accuracy_score)\n",
        "print(result)"
      ],
      "execution_count": null,
      "outputs": []
    },
    {
      "cell_type": "code",
      "metadata": {
        "id": "1JDhcqjFXJSh"
      },
      "source": [
        "listdf = []\n",
        "[listdf.append([A,B]) for A , B in zip(test_df1['text_a'],test_df1['text_b'])]\n",
        "\n",
        "predictions, raw_outputs = model.predict(listdf)"
      ],
      "execution_count": null,
      "outputs": []
    },
    {
      "cell_type": "code",
      "metadata": {
        "id": "2GCqcDjNXaBg"
      },
      "source": [
        "test_df['label'] = predictions\n",
        "test_df.to_csv('drive/My Drive/NLP_project/dataset/Test Data/submission_Roberta1.csv',index=False)"
      ],
      "execution_count": null,
      "outputs": []
    },
    {
      "cell_type": "markdown",
      "metadata": {
        "id": "hLBzNYRClXp0"
      },
      "source": [
        "# **Preprocessing**"
      ]
    },
    {
      "cell_type": "code",
      "metadata": {
        "id": "AFMvhgqixBfx",
        "colab": {
          "base_uri": "https://localhost:8080/",
          "height": 277
        },
        "outputId": "1d6728d2-efb1-4822-d926-bdd840eefe02"
      },
      "source": [
        "import nltk\n",
        "nltk.download('punkt')\n",
        "nltk.download('wordnet')\n",
        "nltk.download('stopwords')\n",
        "nltk.download('averaged_perceptron_tagger') \n",
        "nltk.download('brown')\n",
        "nltk.download('names')  \n",
        "nltk.download('universal_tagset')  \n",
        " "
      ],
      "execution_count": null,
      "outputs": [
        {
          "output_type": "stream",
          "text": [
            "[nltk_data] Downloading package punkt to /root/nltk_data...\n",
            "[nltk_data]   Unzipping tokenizers/punkt.zip.\n",
            "[nltk_data] Downloading package wordnet to /root/nltk_data...\n",
            "[nltk_data]   Unzipping corpora/wordnet.zip.\n",
            "[nltk_data] Downloading package stopwords to /root/nltk_data...\n",
            "[nltk_data]   Unzipping corpora/stopwords.zip.\n",
            "[nltk_data] Downloading package averaged_perceptron_tagger to\n",
            "[nltk_data]     /root/nltk_data...\n",
            "[nltk_data]   Unzipping taggers/averaged_perceptron_tagger.zip.\n",
            "[nltk_data] Downloading package brown to /root/nltk_data...\n",
            "[nltk_data]   Unzipping corpora/brown.zip.\n",
            "[nltk_data] Downloading package names to /root/nltk_data...\n",
            "[nltk_data]   Unzipping corpora/names.zip.\n",
            "[nltk_data] Downloading package universal_tagset to /root/nltk_data...\n",
            "[nltk_data]   Unzipping taggers/universal_tagset.zip.\n"
          ],
          "name": "stdout"
        },
        {
          "output_type": "execute_result",
          "data": {
            "text/plain": [
              "True"
            ]
          },
          "metadata": {
            "tags": []
          },
          "execution_count": 9
        }
      ]
    },
    {
      "cell_type": "code",
      "metadata": {
        "id": "PfAs7LiZng0H",
        "colab": {
          "base_uri": "https://localhost:8080/",
          "height": 228
        },
        "outputId": "2cefb2a9-a23c-4018-9e73-9ee3702060ac"
      },
      "source": [
        "!pip install normalise"
      ],
      "execution_count": null,
      "outputs": [
        {
          "output_type": "stream",
          "text": [
            "Collecting normalise\n",
            "\u001b[?25l  Downloading https://files.pythonhosted.org/packages/28/2d/f06cf3d3714502dec10e19238a5da201b71ce198165beda9c1adaf5063da/normalise-0.1.8-py3-none-any.whl (15.7MB)\n",
            "\u001b[K     |████████████████████████████████| 15.7MB 195kB/s \n",
            "\u001b[?25hCollecting roman\n",
            "  Downloading https://files.pythonhosted.org/packages/8d/f2/29d1d069555855ed49c74b627e6af73cec7a5f4de27c200ea0d760939da4/roman-3.2-py2.py3-none-any.whl\n",
            "Requirement already satisfied: scikit-learn in /usr/local/lib/python3.6/dist-packages (from normalise) (0.22.2.post1)\n",
            "Requirement already satisfied: nltk in /usr/local/lib/python3.6/dist-packages (from normalise) (3.2.5)\n",
            "Requirement already satisfied: numpy in /usr/local/lib/python3.6/dist-packages (from normalise) (1.18.4)\n",
            "Requirement already satisfied: scipy in /usr/local/lib/python3.6/dist-packages (from normalise) (1.4.1)\n",
            "Requirement already satisfied: joblib>=0.11 in /usr/local/lib/python3.6/dist-packages (from scikit-learn->normalise) (0.15.0)\n",
            "Requirement already satisfied: six in /usr/local/lib/python3.6/dist-packages (from nltk->normalise) (1.12.0)\n",
            "Installing collected packages: roman, normalise\n",
            "Successfully installed normalise-0.1.8 roman-3.2\n"
          ],
          "name": "stdout"
        }
      ]
    },
    {
      "cell_type": "code",
      "metadata": {
        "id": "L9mnTQZ25TOr",
        "colab": {
          "base_uri": "https://localhost:8080/",
          "height": 102
        },
        "outputId": "9e8e4d19-fa22-4a7f-9e49-ddf17208ae39"
      },
      "source": [
        "import nltk\n",
        "import string\n",
        "from nltk.tokenize import word_tokenize\n",
        "from normalise import normalise\n",
        "from nltk.stem import WordNetLemmatizer\n",
        "from nltk.corpus import stopwords\n",
        "from nltk.corpus import wordnet\n",
        "import re\n",
        "\n",
        "wordnet_lemmatizer = WordNetLemmatizer()\n",
        "lemmatizer = nltk.stem.WordNetLemmatizer()\n",
        "\n",
        "stop = stopwords.words('english')\n",
        "\n",
        "punctuations = string.punctuation  #\"?:!.,;\"\n",
        "identifiers=[\"the\", \"a\", \"an\",\"The\",\"A\",\"An\"]\n",
        "\n",
        "def decontracted(phrase):\n",
        "    # specific\n",
        "    phrase = re.sub(r\"won\\'t\", \"will not\", phrase)\n",
        "    phrase = re.sub(r\"can\\'t\", \"can not\", phrase)\n",
        "    # general\n",
        "    phrase = re.sub(r\"n\\'t\", \" not\", phrase)\n",
        "    phrase = re.sub(r\"\\'re\", \" are\", phrase)\n",
        "    phrase = re.sub(r\"\\'s\", \" is\", phrase)\n",
        "    phrase = re.sub(r\"\\'d\", \" would\", phrase)\n",
        "    phrase = re.sub(r\"\\'ll\", \" will\", phrase)\n",
        "    phrase = re.sub(r\"\\'t\", \" not\", phrase)\n",
        "    phrase = re.sub(r\"\\'ve\", \" have\", phrase)\n",
        "    phrase = re.sub(r\"\\'m\", \" am\", phrase)\n",
        "    phrase = re.sub(r\"cause\", \"because\", phrase)\n",
        "    return phrase\n",
        "\n",
        "def Normalization(sent):\n",
        "  normalized_tokens = normalise(word_tokenize(sent), verbose=False)\n",
        "  return ' '.join(normalized_tokens)\n",
        "\n",
        "\n",
        "def nltk_tag_to_wordnet_tag(nltk_tag):\n",
        "      if nltk_tag.startswith('J'):\n",
        "          return wordnet.ADJ\n",
        "      elif nltk_tag.startswith('V'):\n",
        "          return wordnet.VERB\n",
        "      elif nltk_tag.startswith('N'):\n",
        "          return wordnet.NOUN\n",
        "      elif nltk_tag.startswith('R'):\n",
        "          return wordnet.ADV\n",
        "      else:\n",
        "          return None\n",
        "\n",
        "def lemmatize_sentence(sentence):\n",
        "    #tokenize the sentence and find the POS tag for each token\n",
        "    #Lowercase all texts\n",
        "    #remove stopwords\n",
        "    \n",
        "    Sent_Token=[]\n",
        "    \n",
        "    [Sent_Token.append(word.lower()) for word in nltk.word_tokenize(sentence) if (word not in identifiers) and (word not in punctuations)]  \n",
        "    nltk_tagged = nltk.pos_tag(' '.join(Sent_Token))\n",
        "    #tuple of (token, wordnet_tag)\n",
        "    wordnet_tagged = map(lambda x: (x[0], nltk_tag_to_wordnet_tag(x[1])), nltk_tagged)\n",
        "    lemmatized_sentence = []\n",
        "    \n",
        "    for word, tag in wordnet_tagged:\n",
        "        if tag is None:\n",
        "            #if there is no available tag, append the token as is\n",
        "            lemmatized_sentence.append(word)\n",
        "        else:\n",
        "            #else use the tag to lemmatize the token\n",
        "            lemmatized_sentence.append(lemmatizer.lemmatize(word, tag))\n",
        "    return ''.join(lemmatized_sentence)\n",
        "\n",
        "# Lemmatizing"
      ],
      "execution_count": null,
      "outputs": [
        {
          "output_type": "stream",
          "text": [
            "/usr/local/lib/python3.6/dist-packages/sklearn/utils/deprecation.py:144: FutureWarning: The sklearn.semi_supervised.label_propagation module is  deprecated in version 0.22 and will be removed in version 0.24. The corresponding classes / functions should instead be imported from sklearn.semi_supervised. Anything that cannot be imported from sklearn.semi_supervised is now part of the private API.\n",
            "  warnings.warn(message, FutureWarning)\n",
            "/usr/local/lib/python3.6/dist-packages/sklearn/base.py:318: UserWarning: Trying to unpickle estimator LabelPropagation from version 0.18 when using version 0.22.2.post1. This might lead to breaking code or invalid results. Use at your own risk.\n",
            "  UserWarning)\n"
          ],
          "name": "stderr"
        }
      ]
    },
    {
      "cell_type": "code",
      "metadata": {
        "id": "vxfseC9iBTrS"
      },
      "source": [
        "train_df= pd.DataFrame({'sent0':train_df['sent0'].apply(lambda x: lemmatize_sentence(str(x))),\n",
        "                         'sent1':train_df['sent1'].apply(lambda x: lemmatize_sentence(str(x))),\n",
        "                        'label':train_df['label']})\n",
        "\n",
        "dev_df = pd.DataFrame({'sent0':dev_df['sent0'].apply(lambda x: lemmatize_sentence(str(x))),\n",
        "                         'sent1':dev_df['sent1'].apply(lambda x: lemmatize_sentence(str(x))),\n",
        "                        'label':dev_df['label']})\n",
        "test_df = pd.DataFrame({'sent0':test_df['sent0'].apply(lambda x: lemmatize_sentence(str(x))),\n",
        "                        'sent1':test_df['sent1'].apply(lambda x: lemmatize_sentence(str(x))),\n",
        "                       })"
      ],
      "execution_count": null,
      "outputs": []
    }
  ]
}